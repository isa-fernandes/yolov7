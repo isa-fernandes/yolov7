{
 "cells": [
  {
   "cell_type": "code",
   "execution_count": 1,
   "metadata": {},
   "outputs": [],
   "source": [
    "import os"
   ]
  },
  {
   "cell_type": "code",
   "execution_count": 29,
   "metadata": {},
   "outputs": [],
   "source": [
    "DATASET_PATH = \"C:\\\\Users\\\\bella\\\\Desktop\\\\stepps\\\\dataset\\\\\"\n",
    "\n",
    "IMAGES_PATH = os.path.join(DATASET_PATH,\"images\")\n",
    "TRAIN_IMAGES_PATH = os.path.join(IMAGES_PATH,\"train\")\n",
    "VAL_IMAGES_PATH = os.path.join(IMAGES_PATH,\"val\")\n",
    "\n",
    "LABELS_PATH = os.path.join(DATASET_PATH,\"labels\")\n",
    "TRAIN_LABELS_PATH = os.path.join(LABELS_PATH,\"train\")\n",
    "VAL_LABELS_PATH = os.path.join(LABELS_PATH,\"val\")"
   ]
  },
  {
   "cell_type": "code",
   "execution_count": 30,
   "metadata": {},
   "outputs": [],
   "source": [
    "image_files = os.listdir(TRAIN_IMAGES_PATH)\n",
    "image_files = [os.path.join(TRAIN_IMAGES_PATH,image_file) for image_file in image_files]"
   ]
  },
  {
   "cell_type": "code",
   "execution_count": 32,
   "metadata": {},
   "outputs": [],
   "source": [
    "with open('train.txt', 'w') as f:\n",
    "    count = 1\n",
    "    for image_file in image_files:\n",
    "        f.write(f\"{image_file}\\n\")\n",
    "        count += 1"
   ]
  },
  {
   "cell_type": "code",
   "execution_count": 33,
   "metadata": {},
   "outputs": [],
   "source": [
    "image_files = os.listdir(VAL_IMAGES_PATH)\n",
    "image_files = [os.path.join(VAL_IMAGES_PATH,image_file) for image_file in image_files]"
   ]
  },
  {
   "cell_type": "code",
   "execution_count": 34,
   "metadata": {},
   "outputs": [],
   "source": [
    "with open('val.txt', 'w') as f:\n",
    "    count = 1\n",
    "    for image_file in image_files:\n",
    "        f.write(f\"{image_file}\\n\")\n",
    "        count += 1"
   ]
  }
 ],
 "metadata": {
  "kernelspec": {
   "display_name": "yolov7",
   "language": "python",
   "name": "python3"
  },
  "language_info": {
   "codemirror_mode": {
    "name": "ipython",
    "version": 3
   },
   "file_extension": ".py",
   "mimetype": "text/x-python",
   "name": "python",
   "nbconvert_exporter": "python",
   "pygments_lexer": "ipython3",
   "version": "3.9.20"
  }
 },
 "nbformat": 4,
 "nbformat_minor": 2
}
